{
  "cells": [
    {
      "cell_type": "markdown",
      "metadata": {
        "id": "7h3sMIKen3Z5"
      },
      "source": [
        "## **installing libraries**"
      ]
    },
    {
      "cell_type": "code",
      "execution_count": 1,
      "metadata": {
        "colab": {
          "base_uri": "https://localhost:8080/",
          "height": 1000
        },
        "id": "AWsJwVgh0IWk",
        "outputId": "bdb58139-52c0-46aa-a02a-f1b65b6c0323"
      },
      "outputs": [
        {
          "name": "stdout",
          "output_type": "stream",
          "text": [
            "Requirement already satisfied: yfinance in c:\\users\\mohammad saudi\\anaconda3\\envs\\ross\\lib\\site-packages (0.1.68)\n",
            "Requirement already satisfied: lxml>=4.5.1 in c:\\users\\mohammad saudi\\anaconda3\\envs\\ross\\lib\\site-packages (from yfinance) (4.7.1)\n",
            "Requirement already satisfied: numpy>=1.15 in c:\\users\\mohammad saudi\\anaconda3\\envs\\ross\\lib\\site-packages (from yfinance) (1.19.5)\n",
            "Requirement already satisfied: multitasking>=0.0.7 in c:\\users\\mohammad saudi\\anaconda3\\envs\\ross\\lib\\site-packages (from yfinance) (0.0.10)\n",
            "Requirement already satisfied: requests>=2.26 in c:\\users\\mohammad saudi\\anaconda3\\envs\\ross\\lib\\site-packages (from yfinance) (2.26.0)\n",
            "Requirement already satisfied: pandas>=0.24 in c:\\users\\mohammad saudi\\anaconda3\\envs\\ross\\lib\\site-packages (from yfinance) (1.3.5)\n",
            "Requirement already satisfied: pytz>=2017.3 in c:\\users\\mohammad saudi\\anaconda3\\envs\\ross\\lib\\site-packages (from pandas>=0.24->yfinance) (2021.3)\n",
            "Requirement already satisfied: python-dateutil>=2.7.3 in c:\\users\\mohammad saudi\\anaconda3\\envs\\ross\\lib\\site-packages (from pandas>=0.24->yfinance) (2.8.2)\n",
            "Requirement already satisfied: six>=1.5 in c:\\users\\mohammad saudi\\anaconda3\\envs\\ross\\lib\\site-packages (from python-dateutil>=2.7.3->pandas>=0.24->yfinance) (1.16.0)\n",
            "Requirement already satisfied: idna<4,>=2.5 in c:\\users\\mohammad saudi\\anaconda3\\envs\\ross\\lib\\site-packages (from requests>=2.26->yfinance) (3.3)\n",
            "Requirement already satisfied: charset-normalizer~=2.0.0 in c:\\users\\mohammad saudi\\anaconda3\\envs\\ross\\lib\\site-packages (from requests>=2.26->yfinance) (2.0.9)\n",
            "Requirement already satisfied: certifi>=2017.4.17 in c:\\users\\mohammad saudi\\anaconda3\\envs\\ross\\lib\\site-packages (from requests>=2.26->yfinance) (2021.10.8)\n",
            "Requirement already satisfied: urllib3<1.27,>=1.21.1 in c:\\users\\mohammad saudi\\anaconda3\\envs\\ross\\lib\\site-packages (from requests>=2.26->yfinance) (1.26.7)\n"
          ]
        }
      ],
      "source": [
        "!pip install yfinance\n",
        "!pip install darts\n",
        "# !pip uninstall matplotlib\n",
        "# !pip install matplotlib==3.1.3"
      ]
    },
    {
      "cell_type": "markdown",
      "metadata": {
        "id": "0Y1ffXMGhDtO"
      },
      "source": [
        "## **Importing libraries**"
      ]
    },
    {
      "cell_type": "code",
      "execution_count": 1,
      "metadata": {
        "id": "nEzKlzrV0KTL"
      },
      "outputs": [
        {
          "name": "stderr",
          "output_type": "stream",
          "text": [
            "[2022-02-11 09:04:24,079] WARNING | darts.models | Support for AutoARIMA is not available.To enable it, install u8darts[pmdarima] or u8darts[all].\n",
            "[2022-02-11 09:04:24,084] WARNING | darts.models | Support for Facebook Prophet is not available. To enable it, install \"darts\", \"u8darts[prophet]\" or \"u8darts[all]\" (with pip);or \"u8darts-all\" (with conda).\n"
          ]
        }
      ],
      "source": [
        "import numpy as np\n",
        "import pandas as pd\n",
        "import yfinance as yf\n",
        "import matplotlib.pyplot as plt\n",
        "from darts.models import (\n",
        "    LinearRegressionModel,\n",
        "    ExponentialSmoothing,\n",
        "    ARIMA, \n",
        "    RandomForest,\n",
        "    Theta, \n",
        "    RegressionEnsembleModel, \n",
        "    NBEATSModel\n",
        ")\n",
        "from darts import TimeSeries\n",
        "from darts.dataprocessing.transformers import Scaler\n",
        "from darts.metrics import mape, mse\n",
        "# Feature Scaling\n",
        "from sklearn.preprocessing import StandardScaler"
      ]
    },
    {
      "cell_type": "markdown",
      "metadata": {
        "id": "qmHmnXm2hKzk"
      },
      "source": [
        "## **Loading the Data**"
      ]
    },
    {
      "cell_type": "code",
      "execution_count": 36,
      "metadata": {
        "colab": {
          "base_uri": "https://localhost:8080/",
          "height": 227
        },
        "id": "5zEIU1NSvpbo",
        "outputId": "8249ba61-62c6-4055-fecd-279ff2043f77"
      },
      "outputs": [
        {
          "data": {
            "text/html": [
              "<div>\n",
              "<style scoped>\n",
              "    .dataframe tbody tr th:only-of-type {\n",
              "        vertical-align: middle;\n",
              "    }\n",
              "\n",
              "    .dataframe tbody tr th {\n",
              "        vertical-align: top;\n",
              "    }\n",
              "\n",
              "    .dataframe thead th {\n",
              "        text-align: right;\n",
              "    }\n",
              "</style>\n",
              "<table border=\"1\" class=\"dataframe\">\n",
              "  <thead>\n",
              "    <tr style=\"text-align: right;\">\n",
              "      <th></th>\n",
              "      <th>Date</th>\n",
              "      <th>tesla-Open</th>\n",
              "      <th>tesla-High</th>\n",
              "      <th>tesla-Low</th>\n",
              "      <th>tesla-Close</th>\n",
              "      <th>tesla-Adj Close</th>\n",
              "      <th>tesla-Volume</th>\n",
              "      <th>accum_value</th>\n",
              "      <th>NSDQ-Open</th>\n",
              "      <th>NSDQ-High</th>\n",
              "      <th>NSDQ-Low</th>\n",
              "      <th>NSDQ-Close</th>\n",
              "      <th>NSDQ-Adj Close</th>\n",
              "      <th>NSDQ-Volume</th>\n",
              "    </tr>\n",
              "  </thead>\n",
              "  <tbody>\n",
              "    <tr>\n",
              "      <th>2292</th>\n",
              "      <td>2022-02-08</td>\n",
              "      <td>905.530029</td>\n",
              "      <td>926.289978</td>\n",
              "      <td>894.799988</td>\n",
              "      <td>922.0</td>\n",
              "      <td>922.0</td>\n",
              "      <td>16909700</td>\n",
              "      <td>224.49</td>\n",
              "      <td>13984.429688</td>\n",
              "      <td>14226.480469</td>\n",
              "      <td>13934.780273</td>\n",
              "      <td>14194.450195</td>\n",
              "      <td>14194.450195</td>\n",
              "      <td>4277150000</td>\n",
              "    </tr>\n",
              "    <tr>\n",
              "      <th>2293</th>\n",
              "      <td>2022-02-09</td>\n",
              "      <td>935.000000</td>\n",
              "      <td>946.270020</td>\n",
              "      <td>920.000000</td>\n",
              "      <td>932.0</td>\n",
              "      <td>932.0</td>\n",
              "      <td>17419800</td>\n",
              "      <td>224.49</td>\n",
              "      <td>14368.160156</td>\n",
              "      <td>14490.719727</td>\n",
              "      <td>14330.870117</td>\n",
              "      <td>14490.370117</td>\n",
              "      <td>14490.370117</td>\n",
              "      <td>4713210000</td>\n",
              "    </tr>\n",
              "  </tbody>\n",
              "</table>\n",
              "</div>"
            ],
            "text/plain": [
              "           Date  tesla-Open  tesla-High   tesla-Low  tesla-Close  \\\n",
              "2292 2022-02-08  905.530029  926.289978  894.799988        922.0   \n",
              "2293 2022-02-09  935.000000  946.270020  920.000000        932.0   \n",
              "\n",
              "      tesla-Adj Close  tesla-Volume  accum_value     NSDQ-Open     NSDQ-High  \\\n",
              "2292            922.0      16909700       224.49  13984.429688  14226.480469   \n",
              "2293            932.0      17419800       224.49  14368.160156  14490.719727   \n",
              "\n",
              "          NSDQ-Low    NSDQ-Close  NSDQ-Adj Close  NSDQ-Volume  \n",
              "2292  13934.780273  14194.450195    14194.450195   4277150000  \n",
              "2293  14330.870117  14490.370117    14490.370117   4713210000  "
            ]
          },
          "execution_count": 36,
          "metadata": {},
          "output_type": "execute_result"
        }
      ],
      "source": [
        "# Download additional stock data, which is correlated to Tesla stock, after research we found that NASDAQ is very correlated\n",
        "\n",
        "tesla_df = yf.download(['TSLA'], \n",
        "                      start='2013-01-02', \n",
        "                      end='2022-02-10', \n",
        "                      progress=False).reset_index()\n",
        "nasdq_df = yf.download(['^IXIC'], \n",
        "                      start='2013-01-02', \n",
        "                      end='2022-02-10', \n",
        "                      progress=False).reset_index()\n",
        "\n",
        "# Events is a self made data for the major events and its effect on tesla stock over the years\n",
        "events = pd.read_excel('tesla_tweed_pre.xlsx', sheet_name='tesla_tweets')[['Date', 'accum_value']]\n",
        "events = events[events['accum_value']!=0]\n",
        "nasdq_df.columns = ['Date', 'NSDQ-Open', 'NSDQ-High', 'NSDQ-Low', 'NSDQ-Close', 'NSDQ-Adj Close', 'NSDQ-Volume']\n",
        "tesla_df.columns = ['Date', 'tesla-Open', 'tesla-High', 'tesla-Low', 'tesla-Close', 'tesla-Adj Close', 'tesla-Volume']\n",
        "event_tesla_merge = pd.merge(tesla_df, events, how='left', on='Date')\n",
        "data = pd.merge(event_tesla_merge, nasdq_df, how='left', on='Date')\n",
        "data['accum_value']=data['accum_value'].fillna(0)\n",
        "\n",
        "# Data transformation\n",
        "def date_extraction(dataset):\n",
        "    dataset['Date'] = pd.to_datetime(dataset['Date'])\n",
        "    # dataset['Year'] = pd.DatetimeIndex(dataset['Date']).year\n",
        "    # dataset['Month'] = pd.DatetimeIndex(dataset['Date']).month\n",
        "    # dataset['Day'] = dataset.Date.dt.day\n",
        "    # dataset['DayOfWeek'] = dataset.Date.dt.dayofweek\n",
        "    # dataset['WeekOfYear'] = dataset.Date.dt.weekofyear\n",
        "    \n",
        "    # dataset['Series'] = np.arange(1,len(data)+1)\n",
        "date_extraction(data)\n",
        "data.tail(2)"
      ]
    },
    {
      "cell_type": "code",
      "execution_count": 37,
      "metadata": {
        "colab": {
          "base_uri": "https://localhost:8080/",
          "height": 423
        },
        "id": "pmNgUAiuIv-W",
        "outputId": "7eb6869f-65a9-4246-e825-169c36737cd4"
      },
      "outputs": [
        {
          "data": {
            "text/html": [
              "<div>\n",
              "<style scoped>\n",
              "    .dataframe tbody tr th:only-of-type {\n",
              "        vertical-align: middle;\n",
              "    }\n",
              "\n",
              "    .dataframe tbody tr th {\n",
              "        vertical-align: top;\n",
              "    }\n",
              "\n",
              "    .dataframe thead th {\n",
              "        text-align: right;\n",
              "    }\n",
              "</style>\n",
              "<table border=\"1\" class=\"dataframe\">\n",
              "  <thead>\n",
              "    <tr style=\"text-align: right;\">\n",
              "      <th></th>\n",
              "      <th>Date</th>\n",
              "      <th>tesla-Close</th>\n",
              "      <th>accum_value</th>\n",
              "      <th>tesla-High</th>\n",
              "      <th>tesla-Low</th>\n",
              "      <th>NSDQ-Close</th>\n",
              "      <th>NSDQ-Volume</th>\n",
              "    </tr>\n",
              "  </thead>\n",
              "  <tbody>\n",
              "    <tr>\n",
              "      <th>0</th>\n",
              "      <td>2018-12-17</td>\n",
              "      <td>69.683998</td>\n",
              "      <td>100.11</td>\n",
              "      <td>73.139999</td>\n",
              "      <td>68.776001</td>\n",
              "      <td>6753.729980</td>\n",
              "      <td>2.665240e+09</td>\n",
              "    </tr>\n",
              "    <tr>\n",
              "      <th>1</th>\n",
              "      <td>2018-12-18</td>\n",
              "      <td>67.405998</td>\n",
              "      <td>100.11</td>\n",
              "      <td>70.309998</td>\n",
              "      <td>66.737999</td>\n",
              "      <td>6783.910156</td>\n",
              "      <td>2.595400e+09</td>\n",
              "    </tr>\n",
              "    <tr>\n",
              "      <th>2</th>\n",
              "      <td>2018-12-19</td>\n",
              "      <td>66.594002</td>\n",
              "      <td>100.11</td>\n",
              "      <td>69.402000</td>\n",
              "      <td>65.947998</td>\n",
              "      <td>6636.830078</td>\n",
              "      <td>2.899950e+09</td>\n",
              "    </tr>\n",
              "    <tr>\n",
              "      <th>3</th>\n",
              "      <td>2018-12-20</td>\n",
              "      <td>63.076000</td>\n",
              "      <td>100.11</td>\n",
              "      <td>66.057999</td>\n",
              "      <td>62.374001</td>\n",
              "      <td>6528.410156</td>\n",
              "      <td>3.258090e+09</td>\n",
              "    </tr>\n",
              "    <tr>\n",
              "      <th>4</th>\n",
              "      <td>2018-12-21</td>\n",
              "      <td>63.953999</td>\n",
              "      <td>100.11</td>\n",
              "      <td>64.694000</td>\n",
              "      <td>62.487999</td>\n",
              "      <td>6332.990234</td>\n",
              "      <td>4.534120e+09</td>\n",
              "    </tr>\n",
              "    <tr>\n",
              "      <th>...</th>\n",
              "      <td>...</td>\n",
              "      <td>...</td>\n",
              "      <td>...</td>\n",
              "      <td>...</td>\n",
              "      <td>...</td>\n",
              "      <td>...</td>\n",
              "      <td>...</td>\n",
              "    </tr>\n",
              "    <tr>\n",
              "      <th>1147</th>\n",
              "      <td>2022-02-06</td>\n",
              "      <td>923.320007</td>\n",
              "      <td>224.49</td>\n",
              "      <td>936.500000</td>\n",
              "      <td>881.169983</td>\n",
              "      <td>14098.009766</td>\n",
              "      <td>4.104120e+09</td>\n",
              "    </tr>\n",
              "    <tr>\n",
              "      <th>1148</th>\n",
              "      <td>2022-02-07</td>\n",
              "      <td>907.340027</td>\n",
              "      <td>224.49</td>\n",
              "      <td>947.770020</td>\n",
              "      <td>902.710022</td>\n",
              "      <td>14015.669922</td>\n",
              "      <td>4.253020e+09</td>\n",
              "    </tr>\n",
              "    <tr>\n",
              "      <th>1149</th>\n",
              "      <td>2022-02-08</td>\n",
              "      <td>922.000000</td>\n",
              "      <td>224.49</td>\n",
              "      <td>926.289978</td>\n",
              "      <td>894.799988</td>\n",
              "      <td>14194.450195</td>\n",
              "      <td>4.277150e+09</td>\n",
              "    </tr>\n",
              "    <tr>\n",
              "      <th>1150</th>\n",
              "      <td>2022-02-09</td>\n",
              "      <td>932.000000</td>\n",
              "      <td>224.49</td>\n",
              "      <td>946.270020</td>\n",
              "      <td>920.000000</td>\n",
              "      <td>14490.370117</td>\n",
              "      <td>4.713210e+09</td>\n",
              "    </tr>\n",
              "    <tr>\n",
              "      <th>1151</th>\n",
              "      <td>2022-02-10</td>\n",
              "      <td>932.000000</td>\n",
              "      <td>224.49</td>\n",
              "      <td>946.270020</td>\n",
              "      <td>920.000000</td>\n",
              "      <td>14490.370117</td>\n",
              "      <td>4.713210e+09</td>\n",
              "    </tr>\n",
              "  </tbody>\n",
              "</table>\n",
              "<p>1152 rows × 7 columns</p>\n",
              "</div>"
            ],
            "text/plain": [
              "           Date  tesla-Close  accum_value  tesla-High   tesla-Low  \\\n",
              "0    2018-12-17    69.683998       100.11   73.139999   68.776001   \n",
              "1    2018-12-18    67.405998       100.11   70.309998   66.737999   \n",
              "2    2018-12-19    66.594002       100.11   69.402000   65.947998   \n",
              "3    2018-12-20    63.076000       100.11   66.057999   62.374001   \n",
              "4    2018-12-21    63.953999       100.11   64.694000   62.487999   \n",
              "...         ...          ...          ...         ...         ...   \n",
              "1147 2022-02-06   923.320007       224.49  936.500000  881.169983   \n",
              "1148 2022-02-07   907.340027       224.49  947.770020  902.710022   \n",
              "1149 2022-02-08   922.000000       224.49  926.289978  894.799988   \n",
              "1150 2022-02-09   932.000000       224.49  946.270020  920.000000   \n",
              "1151 2022-02-10   932.000000       224.49  946.270020  920.000000   \n",
              "\n",
              "        NSDQ-Close   NSDQ-Volume  \n",
              "0      6753.729980  2.665240e+09  \n",
              "1      6783.910156  2.595400e+09  \n",
              "2      6636.830078  2.899950e+09  \n",
              "3      6528.410156  3.258090e+09  \n",
              "4      6332.990234  4.534120e+09  \n",
              "...            ...           ...  \n",
              "1147  14098.009766  4.104120e+09  \n",
              "1148  14015.669922  4.253020e+09  \n",
              "1149  14194.450195  4.277150e+09  \n",
              "1150  14490.370117  4.713210e+09  \n",
              "1151  14490.370117  4.713210e+09  \n",
              "\n",
              "[1152 rows x 7 columns]"
            ]
          },
          "execution_count": 37,
          "metadata": {},
          "output_type": "execute_result"
        }
      ],
      "source": [
        "data = data.filter(['Date', 'tesla-Close', 'accum_value', 'tesla-High', 'tesla-Low', 'NSDQ-Close',  'NSDQ-Volume'], axis=1)\n",
        "data = data.iloc[1500:].reset_index(drop=True).fillna(method='bfill')\n",
        "full_dates = pd.DataFrame(pd.date_range(start = '2018-12-17', end = '2022-02-10', freq = 'D'), columns=['Date'])\n",
        "data_fill = pd.merge(full_dates, data, how='left', on='Date').fillna(method='ffill')\n",
        "data_fill\n"
      ]
    },
    {
      "cell_type": "markdown",
      "metadata": {
        "id": "suqoAbR7hWPu"
      },
      "source": [
        "## **Plotting, selecting, and describing data**"
      ]
    },
    {
      "cell_type": "code",
      "execution_count": 9,
      "metadata": {
        "colab": {
          "base_uri": "https://localhost:8080/",
          "height": 237
        },
        "id": "seH4gWDtWEjm",
        "outputId": "8dbf1184-b1d1-4d59-ce86-c41260e93ed1"
      },
      "outputs": [
        {
          "data": {
            "text/html": [
              "<div>\n",
              "<style scoped>\n",
              "    .dataframe tbody tr th:only-of-type {\n",
              "        vertical-align: middle;\n",
              "    }\n",
              "\n",
              "    .dataframe tbody tr th {\n",
              "        vertical-align: top;\n",
              "    }\n",
              "\n",
              "    .dataframe thead th {\n",
              "        text-align: right;\n",
              "    }\n",
              "</style>\n",
              "<table border=\"1\" class=\"dataframe\">\n",
              "  <thead>\n",
              "    <tr style=\"text-align: right;\">\n",
              "      <th></th>\n",
              "      <th>tesla-Close</th>\n",
              "      <th>accum_value</th>\n",
              "      <th>tesla-High</th>\n",
              "      <th>tesla-Low</th>\n",
              "      <th>NSDQ-Close</th>\n",
              "      <th>NSDQ-Volume</th>\n",
              "    </tr>\n",
              "  </thead>\n",
              "  <tbody>\n",
              "    <tr>\n",
              "      <th>tesla-Close</th>\n",
              "      <td>1.000000</td>\n",
              "      <td>0.932402</td>\n",
              "      <td>0.999461</td>\n",
              "      <td>0.999366</td>\n",
              "      <td>0.963016</td>\n",
              "      <td>0.735747</td>\n",
              "    </tr>\n",
              "    <tr>\n",
              "      <th>accum_value</th>\n",
              "      <td>0.932402</td>\n",
              "      <td>1.000000</td>\n",
              "      <td>0.932220</td>\n",
              "      <td>0.933467</td>\n",
              "      <td>0.955805</td>\n",
              "      <td>0.779017</td>\n",
              "    </tr>\n",
              "    <tr>\n",
              "      <th>tesla-High</th>\n",
              "      <td>0.999461</td>\n",
              "      <td>0.932220</td>\n",
              "      <td>1.000000</td>\n",
              "      <td>0.999302</td>\n",
              "      <td>0.961607</td>\n",
              "      <td>0.739022</td>\n",
              "    </tr>\n",
              "    <tr>\n",
              "      <th>tesla-Low</th>\n",
              "      <td>0.999366</td>\n",
              "      <td>0.933467</td>\n",
              "      <td>0.999302</td>\n",
              "      <td>1.000000</td>\n",
              "      <td>0.964278</td>\n",
              "      <td>0.734633</td>\n",
              "    </tr>\n",
              "    <tr>\n",
              "      <th>NSDQ-Close</th>\n",
              "      <td>0.963016</td>\n",
              "      <td>0.955805</td>\n",
              "      <td>0.961607</td>\n",
              "      <td>0.964278</td>\n",
              "      <td>1.000000</td>\n",
              "      <td>0.695989</td>\n",
              "    </tr>\n",
              "    <tr>\n",
              "      <th>NSDQ-Volume</th>\n",
              "      <td>0.735747</td>\n",
              "      <td>0.779017</td>\n",
              "      <td>0.739022</td>\n",
              "      <td>0.734633</td>\n",
              "      <td>0.695989</td>\n",
              "      <td>1.000000</td>\n",
              "    </tr>\n",
              "  </tbody>\n",
              "</table>\n",
              "</div>"
            ],
            "text/plain": [
              "             tesla-Close  accum_value  tesla-High  tesla-Low  NSDQ-Close  \\\n",
              "tesla-Close     1.000000     0.932402    0.999461   0.999366    0.963016   \n",
              "accum_value     0.932402     1.000000    0.932220   0.933467    0.955805   \n",
              "tesla-High      0.999461     0.932220    1.000000   0.999302    0.961607   \n",
              "tesla-Low       0.999366     0.933467    0.999302   1.000000    0.964278   \n",
              "NSDQ-Close      0.963016     0.955805    0.961607   0.964278    1.000000   \n",
              "NSDQ-Volume     0.735747     0.779017    0.739022   0.734633    0.695989   \n",
              "\n",
              "             NSDQ-Volume  \n",
              "tesla-Close     0.735747  \n",
              "accum_value     0.779017  \n",
              "tesla-High      0.739022  \n",
              "tesla-Low       0.734633  \n",
              "NSDQ-Close      0.695989  \n",
              "NSDQ-Volume     1.000000  "
            ]
          },
          "execution_count": 9,
          "metadata": {},
          "output_type": "execute_result"
        }
      ],
      "source": [
        "data_fill.corr()"
      ]
    },
    {
      "cell_type": "code",
      "execution_count": 38,
      "metadata": {
        "colab": {
          "base_uri": "https://localhost:8080/",
          "height": 294
        },
        "id": "9zglJMM9W6e5",
        "outputId": "fe5cc005-f740-4c86-a50a-78a3e9bf7a13"
      },
      "outputs": [
        {
          "data": {
            "image/png": "[encoded data removed]",
            "text/plain": [
              "<Figure size 432x288 with 1 Axes>"
            ]
          },
          "metadata": {
            "needs_background": "light"
          },
          "output_type": "display_data"
        }
      ],
      "source": [
        "data_merged = TimeSeries.from_dataframe(data_fill, time_col = 'Date', value_cols = ['accum_value','tesla-Close'],\n",
        "                                    fill_missing_dates=True, freq='d')\n",
        "col = ['tesla-Close', 'accum_value']\n",
        "data_merged[col].plot()"
      ]
    },
    {
      "cell_type": "code",
      "execution_count": 39,
      "metadata": {
        "colab": {
          "base_uri": "https://localhost:8080/",
          "height": 423
        },
        "id": "JaOFyKyENobd",
        "outputId": "764026f6-853d-49dc-d6a5-1d6192f2c939"
      },
      "outputs": [
        {
          "data": {
            "text/html": [
              "<div>\n",
              "<style scoped>\n",
              "    .dataframe tbody tr th:only-of-type {\n",
              "        vertical-align: middle;\n",
              "    }\n",
              "\n",
              "    .dataframe tbody tr th {\n",
              "        vertical-align: top;\n",
              "    }\n",
              "\n",
              "    .dataframe thead th {\n",
              "        text-align: right;\n",
              "    }\n",
              "</style>\n",
              "<table border=\"1\" class=\"dataframe\">\n",
              "  <thead>\n",
              "    <tr style=\"text-align: right;\">\n",
              "      <th></th>\n",
              "      <th>Date</th>\n",
              "      <th>tesla-Close</th>\n",
              "      <th>accum_value</th>\n",
              "      <th>tesla-High</th>\n",
              "      <th>tesla-Low</th>\n",
              "      <th>NSDQ-Close</th>\n",
              "      <th>NSDQ-Volume</th>\n",
              "    </tr>\n",
              "  </thead>\n",
              "  <tbody>\n",
              "    <tr>\n",
              "      <th>0</th>\n",
              "      <td>2018-12-17</td>\n",
              "      <td>69.683998</td>\n",
              "      <td>100.11</td>\n",
              "      <td>73.139999</td>\n",
              "      <td>68.776001</td>\n",
              "      <td>6753.729980</td>\n",
              "      <td>2.665240e+09</td>\n",
              "    </tr>\n",
              "    <tr>\n",
              "      <th>1</th>\n",
              "      <td>2018-12-18</td>\n",
              "      <td>67.405998</td>\n",
              "      <td>100.11</td>\n",
              "      <td>70.309998</td>\n",
              "      <td>66.737999</td>\n",
              "      <td>6783.910156</td>\n",
              "      <td>2.595400e+09</td>\n",
              "    </tr>\n",
              "    <tr>\n",
              "      <th>2</th>\n",
              "      <td>2018-12-19</td>\n",
              "      <td>66.594002</td>\n",
              "      <td>100.11</td>\n",
              "      <td>69.402000</td>\n",
              "      <td>65.947998</td>\n",
              "      <td>6636.830078</td>\n",
              "      <td>2.899950e+09</td>\n",
              "    </tr>\n",
              "    <tr>\n",
              "      <th>3</th>\n",
              "      <td>2018-12-20</td>\n",
              "      <td>63.076000</td>\n",
              "      <td>100.11</td>\n",
              "      <td>66.057999</td>\n",
              "      <td>62.374001</td>\n",
              "      <td>6528.410156</td>\n",
              "      <td>3.258090e+09</td>\n",
              "    </tr>\n",
              "    <tr>\n",
              "      <th>4</th>\n",
              "      <td>2018-12-21</td>\n",
              "      <td>63.953999</td>\n",
              "      <td>100.11</td>\n",
              "      <td>64.694000</td>\n",
              "      <td>62.487999</td>\n",
              "      <td>6332.990234</td>\n",
              "      <td>4.534120e+09</td>\n",
              "    </tr>\n",
              "    <tr>\n",
              "      <th>...</th>\n",
              "      <td>...</td>\n",
              "      <td>...</td>\n",
              "      <td>...</td>\n",
              "      <td>...</td>\n",
              "      <td>...</td>\n",
              "      <td>...</td>\n",
              "      <td>...</td>\n",
              "    </tr>\n",
              "    <tr>\n",
              "      <th>1147</th>\n",
              "      <td>2022-02-06</td>\n",
              "      <td>923.320007</td>\n",
              "      <td>224.49</td>\n",
              "      <td>936.500000</td>\n",
              "      <td>881.169983</td>\n",
              "      <td>14098.009766</td>\n",
              "      <td>4.104120e+09</td>\n",
              "    </tr>\n",
              "    <tr>\n",
              "      <th>1148</th>\n",
              "      <td>2022-02-07</td>\n",
              "      <td>907.340027</td>\n",
              "      <td>224.49</td>\n",
              "      <td>947.770020</td>\n",
              "      <td>902.710022</td>\n",
              "      <td>14015.669922</td>\n",
              "      <td>4.253020e+09</td>\n",
              "    </tr>\n",
              "    <tr>\n",
              "      <th>1149</th>\n",
              "      <td>2022-02-08</td>\n",
              "      <td>922.000000</td>\n",
              "      <td>224.49</td>\n",
              "      <td>926.289978</td>\n",
              "      <td>894.799988</td>\n",
              "      <td>14194.450195</td>\n",
              "      <td>4.277150e+09</td>\n",
              "    </tr>\n",
              "    <tr>\n",
              "      <th>1150</th>\n",
              "      <td>2022-02-09</td>\n",
              "      <td>932.000000</td>\n",
              "      <td>224.49</td>\n",
              "      <td>946.270020</td>\n",
              "      <td>920.000000</td>\n",
              "      <td>14490.370117</td>\n",
              "      <td>4.713210e+09</td>\n",
              "    </tr>\n",
              "    <tr>\n",
              "      <th>1151</th>\n",
              "      <td>2022-02-10</td>\n",
              "      <td>932.000000</td>\n",
              "      <td>224.49</td>\n",
              "      <td>946.270020</td>\n",
              "      <td>920.000000</td>\n",
              "      <td>14490.370117</td>\n",
              "      <td>4.713210e+09</td>\n",
              "    </tr>\n",
              "  </tbody>\n",
              "</table>\n",
              "<p>1152 rows × 7 columns</p>\n",
              "</div>"
            ],
            "text/plain": [
              "           Date  tesla-Close  accum_value  tesla-High   tesla-Low  \\\n",
              "0    2018-12-17    69.683998       100.11   73.139999   68.776001   \n",
              "1    2018-12-18    67.405998       100.11   70.309998   66.737999   \n",
              "2    2018-12-19    66.594002       100.11   69.402000   65.947998   \n",
              "3    2018-12-20    63.076000       100.11   66.057999   62.374001   \n",
              "4    2018-12-21    63.953999       100.11   64.694000   62.487999   \n",
              "...         ...          ...          ...         ...         ...   \n",
              "1147 2022-02-06   923.320007       224.49  936.500000  881.169983   \n",
              "1148 2022-02-07   907.340027       224.49  947.770020  902.710022   \n",
              "1149 2022-02-08   922.000000       224.49  926.289978  894.799988   \n",
              "1150 2022-02-09   932.000000       224.49  946.270020  920.000000   \n",
              "1151 2022-02-10   932.000000       224.49  946.270020  920.000000   \n",
              "\n",
              "        NSDQ-Close   NSDQ-Volume  \n",
              "0      6753.729980  2.665240e+09  \n",
              "1      6783.910156  2.595400e+09  \n",
              "2      6636.830078  2.899950e+09  \n",
              "3      6528.410156  3.258090e+09  \n",
              "4      6332.990234  4.534120e+09  \n",
              "...            ...           ...  \n",
              "1147  14098.009766  4.104120e+09  \n",
              "1148  14015.669922  4.253020e+09  \n",
              "1149  14194.450195  4.277150e+09  \n",
              "1150  14490.370117  4.713210e+09  \n",
              "1151  14490.370117  4.713210e+09  \n",
              "\n",
              "[1152 rows x 7 columns]"
            ]
          },
          "execution_count": 39,
          "metadata": {},
          "output_type": "execute_result"
        }
      ],
      "source": [
        "data_fill"
      ]
    },
    {
      "cell_type": "markdown",
      "metadata": {
        "id": "J_U6DwJYJo99"
      },
      "source": [
        "## **Scalling and Training / Validation split**"
      ]
    },
    {
      "cell_type": "code",
      "execution_count": 40,
      "metadata": {
        "id": "xI-i9T2uJm2a"
      },
      "outputs": [],
      "source": [
        "from darts import TimeSeries\n",
        "from darts.dataprocessing.transformers import Scaler\n",
        "\n",
        "# Changing our data to timeseries product for the darts library\n",
        "data_ts = TimeSeries.from_dataframe(data_fill, \n",
        "                                    time_col = 'Date', \n",
        "                                    value_cols = 'tesla-Close',\n",
        "                                    fill_missing_dates=True, freq='d')\n",
        "covariates = TimeSeries.from_dataframe(data_fill, \n",
        "                                    time_col = 'Date', \n",
        "                                    value_cols = ['accum_value', 'tesla-High', 'tesla-Low', 'NSDQ-Close',  'NSDQ-Volume'],\n",
        "                                    fill_missing_dates=True, freq='d')\n",
        "\n",
        "scaler_target = Scaler()\n",
        "data_ts_transformed = scaler_target.fit_transform(data_ts)\n",
        "train_transformed, val_transformed = data_ts_transformed.split_before(pd.Timestamp('20210209'))\n",
        "\n",
        "scaler_covariate = Scaler()\n",
        "covariate_transformed = scaler_covariate.fit_transform(covariates)\n",
        "past_cov, future_cov = covariate_transformed.split_before(pd.Timestamp('20210209')) "
      ]
    },
    {
      "cell_type": "markdown",
      "metadata": {
        "id": "gBzDLJhqKGa9"
      },
      "source": [
        "# **Deep learning Models**"
      ]
    },
    {
      "cell_type": "markdown",
      "metadata": {
        "id": "IsVF32DynIoO"
      },
      "source": [
        "## **Temporal convolutional netword Models**"
      ]
    },
    {
      "cell_type": "code",
      "execution_count": 47,
      "metadata": {},
      "outputs": [
        {
          "data": {
            "text/plain": [
              "(component  tesla-Close\n",
              " count       785.000000\n",
              " mean          0.139204\n",
              " std           0.181265\n",
              " min           0.000000\n",
              " 25%           0.014982\n",
              " 50%           0.044569\n",
              " 75%           0.220764\n",
              " max           0.709559,\n",
              " component  tesla-Close\n",
              " count       367.000000\n",
              " mean          0.637323\n",
              " std           0.145595\n",
              " min           0.441503\n",
              " 25%           0.529686\n",
              " 50%           0.583357\n",
              " 75%           0.750518\n",
              " max           1.000000)"
            ]
          },
          "execution_count": 47,
          "metadata": {},
          "output_type": "execute_result"
        }
      ],
      "source": [
        "train_transformed.describe(), val_transformed.describe()"
      ]
    },
    {
      "cell_type": "code",
      "execution_count": 48,
      "metadata": {
        "colab": {
          "base_uri": "https://localhost:8080/"
        },
        "id": "xeeAZnJqKEqo",
        "outputId": "a9e5ecb9-431d-4586-f002-ad9b2cb99baf"
      },
      "outputs": [
        {
          "name": "stderr",
          "output_type": "stream",
          "text": [
            "[2022-02-11 09:31:42,943] INFO | darts.models.forecasting.torch_forecasting_model | Train dataset contains 656 samples.\n",
            "[2022-02-11 09:31:42,943] INFO | darts.models.forecasting.torch_forecasting_model | Train dataset contains 656 samples.\n",
            "[2022-02-11 09:31:42,950] INFO | darts.models.forecasting.tcn_model | Number of layers chosen: 5\n",
            "[2022-02-11 09:31:42,950] INFO | darts.models.forecasting.tcn_model | Number of layers chosen: 5\n",
            "[2022-02-11 09:31:42,956] INFO | darts.models.forecasting.torch_forecasting_model | Time series values are 64-bits; casting model to float64.\n",
            "[2022-02-11 09:31:42,956] INFO | darts.models.forecasting.torch_forecasting_model | Time series values are 64-bits; casting model to float64.\n"
          ]
        }
      ],
      "source": [
        "from darts.models import TCNModel\n",
        "from darts.utils.likelihood_models import GaussianLikelihood\n",
        "\n",
        "deeptcn = TCNModel(\n",
        "    dropout=0.2,\n",
        "    batch_size=32,\n",
        "    n_epochs=20,\n",
        "    optimizer_kwargs={'lr': 1e-3},\n",
        "    random_state=0,\n",
        "    input_chunk_length=100,\n",
        "    output_chunk_length=30,\n",
        "    kernel_size=3,\n",
        "    num_filters=4,\n",
        "    likelihood=GaussianLikelihood())\n",
        "\n",
        "deeptcn.fit(series=train_transformed, past_covariates=past_cov)\n",
        "\n"
      ]
    },
    {
      "cell_type": "code",
      "execution_count": 49,
      "metadata": {
        "colab": {
          "base_uri": "https://localhost:8080/",
          "height": 320
        },
        "id": "HXsTnr3kYHrR",
        "outputId": "6e2f5ae0-418c-4408-ec6c-1db1e4cb0ef5"
      },
      "outputs": [
        {
          "name": "stdout",
          "output_type": "stream",
          "text": [
            "MAPE = 14.06%\n"
          ]
        },
        {
          "data": {
            "image/png": "[encoded data removed]",
            "text/plain": [
              "<Figure size 432x288 with 1 Axes>"
            ]
          },
          "metadata": {
            "needs_background": "light"
          },
          "output_type": "display_data"
        }
      ],
      "source": [
        "pred = deeptcn.predict(15, past_covariates=past_cov, num_samples=1000)\n",
        "pred_orig = scaler_target.inverse_transform(pred)\n",
        "\n",
        "val_orig = scaler_target.inverse_transform(val_transformed)\n",
        "val_orig.slice_intersect(pred_orig).plot(label='target')\n",
        "\n",
        "pred_orig.plot(label='forecast')\n",
        "training = scaler_target.inverse_transform(train_transformed)\n",
        "print('MAPE = {:.2f}%'.format(mape(val_orig, pred_orig)))"
      ]
    },
    {
      "cell_type": "markdown",
      "metadata": {
        "id": "_81qrYSXP4nI"
      },
      "source": [
        "### **Metrics**"
      ]
    },
    {
      "cell_type": "code",
      "execution_count": 18,
      "metadata": {
        "colab": {
          "base_uri": "https://localhost:8080/"
        },
        "id": "lDZ_yoQEP_pL",
        "outputId": "d1776a65-96f2-4da6-acb6-4ac0f0fb602e"
      },
      "outputs": [
        {
          "name": "stdout",
          "output_type": "stream",
          "text": [
            "TCN model MAPE is: 10.46%\n",
            "TCN model MAE is: 97.5\n",
            "TCN model RMSE is: 98\n"
          ]
        }
      ],
      "source": [
        "from darts.metrics import mape, mase, mae, rmse\n",
        "\n",
        "mape_score = mape(val_orig, pred_orig)\n",
        "mae_score = mae(val_orig, pred_orig)\n",
        "rmse_score = rmse(val_orig, pred_orig)\n",
        "\n",
        "print('TCN model MAPE is: {}%'.format(round(mape_score,2)))\n",
        "print('TCN model MAE is: {}'.format(round(mae_score, 2)))\n",
        "print('TCN model RMSE is: {}'.format(round(rmse_score)))\n"
      ]
    },
    {
      "cell_type": "code",
      "execution_count": null,
      "metadata": {
        "colab": {
          "base_uri": "https://localhost:8080/",
          "height": 143
        },
        "id": "9Sqzb443uj_n",
        "outputId": "4ac6243d-5b55-4a99-96c7-3c12b4ab6f43"
      },
      "outputs": [
        {
          "data": {
            "text/html": [
              "\n",
              "  <div id=\"df-4399e583-4ddc-49b9-b4af-3777a4031878\">\n",
              "    <div class=\"colab-df-container\">\n",
              "      <div>\n",
              "<style scoped>\n",
              "    .dataframe tbody tr th:only-of-type {\n",
              "        vertical-align: middle;\n",
              "    }\n",
              "\n",
              "    .dataframe tbody tr th {\n",
              "        vertical-align: top;\n",
              "    }\n",
              "\n",
              "    .dataframe thead th {\n",
              "        text-align: right;\n",
              "    }\n",
              "</style>\n",
              "<table border=\"1\" class=\"dataframe\">\n",
              "  <thead>\n",
              "    <tr style=\"text-align: right;\">\n",
              "      <th></th>\n",
              "      <th>TCN</th>\n",
              "    </tr>\n",
              "  </thead>\n",
              "  <tbody>\n",
              "    <tr>\n",
              "      <th>MAPE</th>\n",
              "      <td>2.65</td>\n",
              "    </tr>\n",
              "    <tr>\n",
              "      <th>MAE</th>\n",
              "      <td>17.48</td>\n",
              "    </tr>\n",
              "    <tr>\n",
              "      <th>RMSE</th>\n",
              "      <td>21.00</td>\n",
              "    </tr>\n",
              "  </tbody>\n",
              "</table>\n",
              "</div>\n",
              "      <button class=\"colab-df-convert\" onclick=\"convertToInteractive('df-4399e583-4ddc-49b9-b4af-3777a4031878')\"\n",
              "              title=\"Convert this dataframe to an interactive table.\"\n",
              "              style=\"display:none;\">\n",
              "        \n",
              "  <svg xmlns=\"http://www.w3.org/2000/svg\" height=\"24px\"viewBox=\"0 0 24 24\"\n",
              "       width=\"24px\">\n",
              "    <path d=\"M0 0h24v24H0V0z\" fill=\"none\"/>\n",
              "    <path d=\"M18.56 5.44l.94 2.06.94-2.06 2.06-.94-2.06-.94-.94-2.06-.94 2.06-2.06.94zm-11 1L8.5 8.5l.94-2.06 2.06-.94-2.06-.94L8.5 2.5l-.94 2.06-2.06.94zm10 10l.94 2.06.94-2.06 2.06-.94-2.06-.94-.94-2.06-.94 2.06-2.06.94z\"/><path d=\"M17.41 7.96l-1.37-1.37c-.4-.4-.92-.59-1.43-.59-.52 0-1.04.2-1.43.59L10.3 9.45l-7.72 7.72c-.78.78-.78 2.05 0 2.83L4 21.41c.39.39.9.59 1.41.59.51 0 1.02-.2 1.41-.59l7.78-7.78 2.81-2.81c.8-.78.8-2.07 0-2.86zM5.41 20L4 18.59l7.72-7.72 1.47 1.35L5.41 20z\"/>\n",
              "  </svg>\n",
              "      </button>\n",
              "      \n",
              "  <style>\n",
              "    .colab-df-container {\n",
              "      display:flex;\n",
              "      flex-wrap:wrap;\n",
              "      gap: 12px;\n",
              "    }\n",
              "\n",
              "    .colab-df-convert {\n",
              "      background-color: #E8F0FE;\n",
              "      border: none;\n",
              "      border-radius: 50%;\n",
              "      cursor: pointer;\n",
              "      display: none;\n",
              "      fill: #1967D2;\n",
              "      height: 32px;\n",
              "      padding: 0 0 0 0;\n",
              "      width: 32px;\n",
              "    }\n",
              "\n",
              "    .colab-df-convert:hover {\n",
              "      background-color: #E2EBFA;\n",
              "      box-shadow: 0px 1px 2px rgba(60, 64, 67, 0.3), 0px 1px 3px 1px rgba(60, 64, 67, 0.15);\n",
              "      fill: #174EA6;\n",
              "    }\n",
              "\n",
              "    [theme=dark] .colab-df-convert {\n",
              "      background-color: #3B4455;\n",
              "      fill: #D2E3FC;\n",
              "    }\n",
              "\n",
              "    [theme=dark] .colab-df-convert:hover {\n",
              "      background-color: #434B5C;\n",
              "      box-shadow: 0px 1px 3px 1px rgba(0, 0, 0, 0.15);\n",
              "      filter: drop-shadow(0px 1px 2px rgba(0, 0, 0, 0.3));\n",
              "      fill: #FFFFFF;\n",
              "    }\n",
              "  </style>\n",
              "\n",
              "      <script>\n",
              "        const buttonEl =\n",
              "          document.querySelector('#df-4399e583-4ddc-49b9-b4af-3777a4031878 button.colab-df-convert');\n",
              "        buttonEl.style.display =\n",
              "          google.colab.kernel.accessAllowed ? 'block' : 'none';\n",
              "\n",
              "        async function convertToInteractive(key) {\n",
              "          const element = document.querySelector('#df-4399e583-4ddc-49b9-b4af-3777a4031878');\n",
              "          const dataTable =\n",
              "            await google.colab.kernel.invokeFunction('convertToInteractive',\n",
              "                                                     [key], {});\n",
              "          if (!dataTable) return;\n",
              "\n",
              "          const docLinkHtml = 'Like what you see? Visit the ' +\n",
              "            '<a target=\"_blank\" href=https://colab.research.google.com/notebooks/data_table.ipynb>data table notebook</a>'\n",
              "            + ' to learn more about interactive tables.';\n",
              "          element.innerHTML = '';\n",
              "          dataTable['output_type'] = 'display_data';\n",
              "          await google.colab.output.renderOutput(dataTable, element);\n",
              "          const docLink = document.createElement('div');\n",
              "          docLink.innerHTML = docLinkHtml;\n",
              "          element.appendChild(docLink);\n",
              "        }\n",
              "      </script>\n",
              "    </div>\n",
              "  </div>\n",
              "  "
            ],
            "text/plain": [
              "        TCN\n",
              "MAPE   2.65\n",
              "MAE   17.48\n",
              "RMSE  21.00"
            ]
          },
          "execution_count": 13,
          "metadata": {},
          "output_type": "execute_result"
        }
      ],
      "source": [
        "evaluation = pd.DataFrame({'TCN': [round((mape_score),2), round(mae_score, 2),round(rmse_score) ]}, index=['MAPE', 'MAE', 'RMSE'])\n",
        "evaluation.to_csv('evaluation_TCN.csv')\n",
        "evaluation"
      ]
    },
    {
      "cell_type": "markdown",
      "metadata": {
        "id": "t00rKuz9N0L9"
      },
      "source": [
        "## **NBEATS model**"
      ]
    },
    {
      "cell_type": "code",
      "execution_count": null,
      "metadata": {
        "colab": {
          "base_uri": "https://localhost:8080/"
        },
        "id": "gNwYsL8ebTzW",
        "outputId": "3591fa73-0a47-48b1-98e5-a66259f095fe"
      },
      "outputs": [
        {
          "name": "stderr",
          "output_type": "stream",
          "text": [
            "[2022-01-22 17:23:37,512] INFO | darts.models.forecasting.torch_forecasting_model | Train dataset contains 867 samples.\n",
            "[2022-01-22 17:23:37,512] INFO | darts.models.forecasting.torch_forecasting_model | Train dataset contains 867 samples.\n",
            "[2022-01-22 17:23:37,599] INFO | darts.models.forecasting.torch_forecasting_model | Time series values are 64-bits; casting model to float64.\n",
            "[2022-01-22 17:23:37,599] INFO | darts.models.forecasting.torch_forecasting_model | Time series values are 64-bits; casting model to float64.\n",
            "  1%|          | 1/100 [00:02<04:11,  2.54s/it]"
          ]
        },
        {
          "name": "stdout",
          "output_type": "stream",
          "text": [
            "Training loss: 0.0981\r"
          ]
        },
        {
          "name": "stderr",
          "output_type": "stream",
          "text": [
            " 11%|█         | 11/100 [00:26<03:31,  2.38s/it]"
          ]
        },
        {
          "name": "stdout",
          "output_type": "stream",
          "text": [
            "Training loss: 0.0021\r"
          ]
        },
        {
          "name": "stderr",
          "output_type": "stream",
          "text": [
            " 21%|██        | 21/100 [00:50<03:07,  2.37s/it]"
          ]
        },
        {
          "name": "stdout",
          "output_type": "stream",
          "text": [
            "Training loss: 0.0022\r"
          ]
        },
        {
          "name": "stderr",
          "output_type": "stream",
          "text": [
            " 31%|███       | 31/100 [01:13<02:43,  2.37s/it]"
          ]
        },
        {
          "name": "stdout",
          "output_type": "stream",
          "text": [
            "Training loss: 0.0013\r"
          ]
        },
        {
          "name": "stderr",
          "output_type": "stream",
          "text": [
            " 41%|████      | 41/100 [01:37<02:19,  2.37s/it]"
          ]
        },
        {
          "name": "stdout",
          "output_type": "stream",
          "text": [
            "Training loss: 0.0010\r"
          ]
        },
        {
          "name": "stderr",
          "output_type": "stream",
          "text": [
            " 51%|█████     | 51/100 [02:01<01:57,  2.39s/it]"
          ]
        },
        {
          "name": "stdout",
          "output_type": "stream",
          "text": [
            "Training loss: 0.0011\r"
          ]
        },
        {
          "name": "stderr",
          "output_type": "stream",
          "text": [
            " 61%|██████    | 61/100 [02:25<01:33,  2.39s/it]"
          ]
        },
        {
          "name": "stdout",
          "output_type": "stream",
          "text": [
            "Training loss: 0.0013\r"
          ]
        },
        {
          "name": "stderr",
          "output_type": "stream",
          "text": [
            " 71%|███████   | 71/100 [02:49<01:09,  2.39s/it]"
          ]
        },
        {
          "name": "stdout",
          "output_type": "stream",
          "text": [
            "Training loss: 0.0007\r"
          ]
        },
        {
          "name": "stderr",
          "output_type": "stream",
          "text": [
            " 81%|████████  | 81/100 [03:13<00:45,  2.39s/it]"
          ]
        },
        {
          "name": "stdout",
          "output_type": "stream",
          "text": [
            "Training loss: 0.0007\r"
          ]
        },
        {
          "name": "stderr",
          "output_type": "stream",
          "text": [
            " 91%|█████████ | 91/100 [03:36<00:21,  2.38s/it]"
          ]
        },
        {
          "name": "stdout",
          "output_type": "stream",
          "text": [
            "Training loss: 0.0006\r"
          ]
        },
        {
          "name": "stderr",
          "output_type": "stream",
          "text": [
            "100%|██████████| 100/100 [03:58<00:00,  2.38s/it]\n"
          ]
        }
      ],
      "source": [
        "model = NBEATSModel(input_chunk_length=30, output_chunk_length=15, n_epochs=100, random_state=0)\n",
        "\n",
        "model.fit(series=train_transformed, past_covariates=past_cov, verbose=True)\n",
        "\n"
      ]
    },
    {
      "cell_type": "markdown",
      "metadata": {
        "id": "I-SWupGznutM"
      },
      "source": [
        "### **Plotting**"
      ]
    },
    {
      "cell_type": "code",
      "execution_count": null,
      "metadata": {
        "colab": {
          "base_uri": "https://localhost:8080/",
          "height": 320
        },
        "id": "ICLBEpEThCm6",
        "outputId": "475f2869-5613-42c8-cce6-3f012afa45ac"
      },
      "outputs": [
        {
          "name": "stdout",
          "output_type": "stream",
          "text": [
            "MAPE = 5.29%\n"
          ]
        },
        {
          "data": {
            "image/png": "[encoded data removed]",
            "text/plain": [
              "<Figure size 432x288 with 1 Axes>"
            ]
          },
          "metadata": {
            "needs_background": "light"
          },
          "output_type": "display_data"
        }
      ],
      "source": [
        "# pred = model.predict(n=15, series=train_transformed, num_samples=10)\n",
        "# pred_orig = scaler_target.inverse_transform(pred)\n",
        "# val_orig = scaler_target.inverse_transform(val_transformed)\n",
        "\n",
        "# val_orig.plot(label='actual')\n",
        "# pred_orig.plot(label='forecast')\n",
        "\n",
        "# plt.legend();\n",
        "\n",
        "pred = model.predict(15, past_covariates=past_cov, num_samples=1)\n",
        "pred_orig = scaler_target.inverse_transform(pred)\n",
        "val_orig = scaler_target.inverse_transform(val_transformed)\n",
        "val_orig.slice_intersect(pred_orig).plot(label='target')\n",
        "\n",
        "pred_orig.plot(label='forecast')\n",
        "training = scaler_target.inverse_transform(train_transformed)\n",
        "print('MAPE = {:.2f}%'.format(mape(val_orig, pred_orig)))"
      ]
    },
    {
      "cell_type": "markdown",
      "metadata": {
        "id": "JKPNYhd3PAp-"
      },
      "source": [
        "### **Metrics**"
      ]
    },
    {
      "cell_type": "code",
      "execution_count": null,
      "metadata": {
        "colab": {
          "base_uri": "https://localhost:8080/"
        },
        "id": "-nt1ZQnZO9Bu",
        "outputId": "91f5488a-0ce2-4017-c9f3-dc22d21358b1"
      },
      "outputs": [
        {
          "name": "stdout",
          "output_type": "stream",
          "text": [
            "NBEATS model MAPE is: 5.29%\n",
            "NBEATS model MAE is: 33.68\n",
            "NBEATS model RMSE is: 38\n"
          ]
        }
      ],
      "source": [
        "mape_score = mape(val_orig, pred_orig)\n",
        "mae_score = mae(val_orig, pred_orig)\n",
        "rmse_score = rmse(val_orig, pred_orig)\n",
        "\n",
        "print('NBEATS model MAPE is: {}%'.format(round(mape_score, 2)))\n",
        "print('NBEATS model MAE is: {}'.format(round(mae_score, 2)))\n",
        "print('NBEATS model RMSE is: {}'.format(round(rmse_score)))"
      ]
    },
    {
      "cell_type": "code",
      "execution_count": null,
      "metadata": {
        "colab": {
          "base_uri": "https://localhost:8080/",
          "height": 143
        },
        "id": "FwOiIxuPqkbU",
        "outputId": "593c3c6a-3266-4dce-913c-18010717a22e"
      },
      "outputs": [
        {
          "data": {
            "text/html": [
              "\n",
              "  <div id=\"df-be3658e5-3069-4c4c-b4dd-6c33896c4fc0\">\n",
              "    <div class=\"colab-df-container\">\n",
              "      <div>\n",
              "<style scoped>\n",
              "    .dataframe tbody tr th:only-of-type {\n",
              "        vertical-align: middle;\n",
              "    }\n",
              "\n",
              "    .dataframe tbody tr th {\n",
              "        vertical-align: top;\n",
              "    }\n",
              "\n",
              "    .dataframe thead th {\n",
              "        text-align: right;\n",
              "    }\n",
              "</style>\n",
              "<table border=\"1\" class=\"dataframe\">\n",
              "  <thead>\n",
              "    <tr style=\"text-align: right;\">\n",
              "      <th></th>\n",
              "      <th>NBEATS</th>\n",
              "    </tr>\n",
              "  </thead>\n",
              "  <tbody>\n",
              "    <tr>\n",
              "      <th>MAPE</th>\n",
              "      <td>5.29</td>\n",
              "    </tr>\n",
              "    <tr>\n",
              "      <th>MAE</th>\n",
              "      <td>33.68</td>\n",
              "    </tr>\n",
              "    <tr>\n",
              "      <th>RMSE</th>\n",
              "      <td>38.00</td>\n",
              "    </tr>\n",
              "  </tbody>\n",
              "</table>\n",
              "</div>\n",
              "      <button class=\"colab-df-convert\" onclick=\"convertToInteractive('df-be3658e5-3069-4c4c-b4dd-6c33896c4fc0')\"\n",
              "              title=\"Convert this dataframe to an interactive table.\"\n",
              "              style=\"display:none;\">\n",
              "        \n",
              "  <svg xmlns=\"http://www.w3.org/2000/svg\" height=\"24px\"viewBox=\"0 0 24 24\"\n",
              "       width=\"24px\">\n",
              "    <path d=\"M0 0h24v24H0V0z\" fill=\"none\"/>\n",
              "    <path d=\"M18.56 5.44l.94 2.06.94-2.06 2.06-.94-2.06-.94-.94-2.06-.94 2.06-2.06.94zm-11 1L8.5 8.5l.94-2.06 2.06-.94-2.06-.94L8.5 2.5l-.94 2.06-2.06.94zm10 10l.94 2.06.94-2.06 2.06-.94-2.06-.94-.94-2.06-.94 2.06-2.06.94z\"/><path d=\"M17.41 7.96l-1.37-1.37c-.4-.4-.92-.59-1.43-.59-.52 0-1.04.2-1.43.59L10.3 9.45l-7.72 7.72c-.78.78-.78 2.05 0 2.83L4 21.41c.39.39.9.59 1.41.59.51 0 1.02-.2 1.41-.59l7.78-7.78 2.81-2.81c.8-.78.8-2.07 0-2.86zM5.41 20L4 18.59l7.72-7.72 1.47 1.35L5.41 20z\"/>\n",
              "  </svg>\n",
              "      </button>\n",
              "      \n",
              "  <style>\n",
              "    .colab-df-container {\n",
              "      display:flex;\n",
              "      flex-wrap:wrap;\n",
              "      gap: 12px;\n",
              "    }\n",
              "\n",
              "    .colab-df-convert {\n",
              "      background-color: #E8F0FE;\n",
              "      border: none;\n",
              "      border-radius: 50%;\n",
              "      cursor: pointer;\n",
              "      display: none;\n",
              "      fill: #1967D2;\n",
              "      height: 32px;\n",
              "      padding: 0 0 0 0;\n",
              "      width: 32px;\n",
              "    }\n",
              "\n",
              "    .colab-df-convert:hover {\n",
              "      background-color: #E2EBFA;\n",
              "      box-shadow: 0px 1px 2px rgba(60, 64, 67, 0.3), 0px 1px 3px 1px rgba(60, 64, 67, 0.15);\n",
              "      fill: #174EA6;\n",
              "    }\n",
              "\n",
              "    [theme=dark] .colab-df-convert {\n",
              "      background-color: #3B4455;\n",
              "      fill: #D2E3FC;\n",
              "    }\n",
              "\n",
              "    [theme=dark] .colab-df-convert:hover {\n",
              "      background-color: #434B5C;\n",
              "      box-shadow: 0px 1px 3px 1px rgba(0, 0, 0, 0.15);\n",
              "      filter: drop-shadow(0px 1px 2px rgba(0, 0, 0, 0.3));\n",
              "      fill: #FFFFFF;\n",
              "    }\n",
              "  </style>\n",
              "\n",
              "      <script>\n",
              "        const buttonEl =\n",
              "          document.querySelector('#df-be3658e5-3069-4c4c-b4dd-6c33896c4fc0 button.colab-df-convert');\n",
              "        buttonEl.style.display =\n",
              "          google.colab.kernel.accessAllowed ? 'block' : 'none';\n",
              "\n",
              "        async function convertToInteractive(key) {\n",
              "          const element = document.querySelector('#df-be3658e5-3069-4c4c-b4dd-6c33896c4fc0');\n",
              "          const dataTable =\n",
              "            await google.colab.kernel.invokeFunction('convertToInteractive',\n",
              "                                                     [key], {});\n",
              "          if (!dataTable) return;\n",
              "\n",
              "          const docLinkHtml = 'Like what you see? Visit the ' +\n",
              "            '<a target=\"_blank\" href=https://colab.research.google.com/notebooks/data_table.ipynb>data table notebook</a>'\n",
              "            + ' to learn more about interactive tables.';\n",
              "          element.innerHTML = '';\n",
              "          dataTable['output_type'] = 'display_data';\n",
              "          await google.colab.output.renderOutput(dataTable, element);\n",
              "          const docLink = document.createElement('div');\n",
              "          docLink.innerHTML = docLinkHtml;\n",
              "          element.appendChild(docLink);\n",
              "        }\n",
              "      </script>\n",
              "    </div>\n",
              "  </div>\n",
              "  "
            ],
            "text/plain": [
              "      NBEATS\n",
              "MAPE    5.29\n",
              "MAE    33.68\n",
              "RMSE   38.00"
            ]
          },
          "execution_count": 23,
          "metadata": {},
          "output_type": "execute_result"
        }
      ],
      "source": [
        "evaluation = pd.DataFrame({'NBEATS': [round((mape_score),2), round(mae_score, 2),round(rmse_score) ]}, index=['MAPE', 'MAE', 'RMSE'])\n",
        "evaluation.to_csv('evaluation_NBEATS.csv')\n",
        "evaluation"
      ]
    },
    {
      "cell_type": "code",
      "execution_count": 51,
      "metadata": {},
      "outputs": [],
      "source": [
        "import numpy as np\n",
        "import pandas as pd\n",
        "import matplotlib.pyplot as plt\n",
        "\n",
        "from darts import TimeSeries\n",
        "from darts.models import TCNModel, RNNModel\n",
        "from darts.dataprocessing.transformers import Scaler\n",
        "from darts.utils.timeseries_generation import datetime_attribute_timeseries\n",
        "from darts.metrics import mape, r2_score\n",
        "from darts.utils.missing_values import fill_missing_values\n",
        "from darts.datasets import AirPassengersDataset, SunspotsDataset, EnergyDataset"
      ]
    },
    {
      "cell_type": "code",
      "execution_count": 52,
      "metadata": {},
      "outputs": [],
      "source": [
        "# Read data:\n",
        "ts = AirPassengersDataset().load()\n",
        "scaler = Scaler()\n",
        "ts = scaler.fit_transform(\n",
        "    ts\n",
        ")  # scale the whole time series not caring about train/val split...\n",
        "\n",
        "# We'll use the month as a covariate\n",
        "month_series = datetime_attribute_timeseries(ts, attribute=\"month\", one_hot=True)\n",
        "scaler_month = Scaler()\n",
        "month_series = scaler_month.fit_transform(month_series)\n",
        "\n",
        "# Create training and validation sets:\n",
        "train, val = ts.split_after(pd.Timestamp(\"19580801\"))\n",
        "train_month, val_month = month_series.split_after(pd.Timestamp(\"19580801\"))"
      ]
    },
    {
      "cell_type": "code",
      "execution_count": 68,
      "metadata": {},
      "outputs": [
        {
          "data": {
            "text/html": [
              "<div>\n",
              "<style scoped>\n",
              "    .dataframe tbody tr th:only-of-type {\n",
              "        vertical-align: middle;\n",
              "    }\n",
              "\n",
              "    .dataframe tbody tr th {\n",
              "        vertical-align: top;\n",
              "    }\n",
              "\n",
              "    .dataframe thead th {\n",
              "        text-align: right;\n",
              "    }\n",
              "</style>\n",
              "<table border=\"1\" class=\"dataframe\">\n",
              "  <thead>\n",
              "    <tr style=\"text-align: right;\">\n",
              "      <th>component</th>\n",
              "      <th>month_1</th>\n",
              "      <th>month_2</th>\n",
              "      <th>month_3</th>\n",
              "      <th>month_4</th>\n",
              "      <th>month_5</th>\n",
              "      <th>month_6</th>\n",
              "      <th>month_7</th>\n",
              "      <th>month_8</th>\n",
              "      <th>month_9</th>\n",
              "      <th>month_10</th>\n",
              "      <th>month_11</th>\n",
              "      <th>month_12</th>\n",
              "    </tr>\n",
              "    <tr>\n",
              "      <th>Month</th>\n",
              "      <th></th>\n",
              "      <th></th>\n",
              "      <th></th>\n",
              "      <th></th>\n",
              "      <th></th>\n",
              "      <th></th>\n",
              "      <th></th>\n",
              "      <th></th>\n",
              "      <th></th>\n",
              "      <th></th>\n",
              "      <th></th>\n",
              "      <th></th>\n",
              "    </tr>\n",
              "  </thead>\n",
              "  <tbody>\n",
              "    <tr>\n",
              "      <th>1949-01-01</th>\n",
              "      <td>1.0</td>\n",
              "      <td>0.0</td>\n",
              "      <td>0.0</td>\n",
              "      <td>0.0</td>\n",
              "      <td>0.0</td>\n",
              "      <td>0.0</td>\n",
              "      <td>0.0</td>\n",
              "      <td>0.0</td>\n",
              "      <td>0.0</td>\n",
              "      <td>0.0</td>\n",
              "      <td>0.0</td>\n",
              "      <td>0.0</td>\n",
              "    </tr>\n",
              "    <tr>\n",
              "      <th>1949-02-01</th>\n",
              "      <td>0.0</td>\n",
              "      <td>1.0</td>\n",
              "      <td>0.0</td>\n",
              "      <td>0.0</td>\n",
              "      <td>0.0</td>\n",
              "      <td>0.0</td>\n",
              "      <td>0.0</td>\n",
              "      <td>0.0</td>\n",
              "      <td>0.0</td>\n",
              "      <td>0.0</td>\n",
              "      <td>0.0</td>\n",
              "      <td>0.0</td>\n",
              "    </tr>\n",
              "    <tr>\n",
              "      <th>1949-03-01</th>\n",
              "      <td>0.0</td>\n",
              "      <td>0.0</td>\n",
              "      <td>1.0</td>\n",
              "      <td>0.0</td>\n",
              "      <td>0.0</td>\n",
              "      <td>0.0</td>\n",
              "      <td>0.0</td>\n",
              "      <td>0.0</td>\n",
              "      <td>0.0</td>\n",
              "      <td>0.0</td>\n",
              "      <td>0.0</td>\n",
              "      <td>0.0</td>\n",
              "    </tr>\n",
              "    <tr>\n",
              "      <th>1949-04-01</th>\n",
              "      <td>0.0</td>\n",
              "      <td>0.0</td>\n",
              "      <td>0.0</td>\n",
              "      <td>1.0</td>\n",
              "      <td>0.0</td>\n",
              "      <td>0.0</td>\n",
              "      <td>0.0</td>\n",
              "      <td>0.0</td>\n",
              "      <td>0.0</td>\n",
              "      <td>0.0</td>\n",
              "      <td>0.0</td>\n",
              "      <td>0.0</td>\n",
              "    </tr>\n",
              "    <tr>\n",
              "      <th>1949-05-01</th>\n",
              "      <td>0.0</td>\n",
              "      <td>0.0</td>\n",
              "      <td>0.0</td>\n",
              "      <td>0.0</td>\n",
              "      <td>1.0</td>\n",
              "      <td>0.0</td>\n",
              "      <td>0.0</td>\n",
              "      <td>0.0</td>\n",
              "      <td>0.0</td>\n",
              "      <td>0.0</td>\n",
              "      <td>0.0</td>\n",
              "      <td>0.0</td>\n",
              "    </tr>\n",
              "    <tr>\n",
              "      <th>...</th>\n",
              "      <td>...</td>\n",
              "      <td>...</td>\n",
              "      <td>...</td>\n",
              "      <td>...</td>\n",
              "      <td>...</td>\n",
              "      <td>...</td>\n",
              "      <td>...</td>\n",
              "      <td>...</td>\n",
              "      <td>...</td>\n",
              "      <td>...</td>\n",
              "      <td>...</td>\n",
              "      <td>...</td>\n",
              "    </tr>\n",
              "    <tr>\n",
              "      <th>1958-04-01</th>\n",
              "      <td>0.0</td>\n",
              "      <td>0.0</td>\n",
              "      <td>0.0</td>\n",
              "      <td>1.0</td>\n",
              "      <td>0.0</td>\n",
              "      <td>0.0</td>\n",
              "      <td>0.0</td>\n",
              "      <td>0.0</td>\n",
              "      <td>0.0</td>\n",
              "      <td>0.0</td>\n",
              "      <td>0.0</td>\n",
              "      <td>0.0</td>\n",
              "    </tr>\n",
              "    <tr>\n",
              "      <th>1958-05-01</th>\n",
              "      <td>0.0</td>\n",
              "      <td>0.0</td>\n",
              "      <td>0.0</td>\n",
              "      <td>0.0</td>\n",
              "      <td>1.0</td>\n",
              "      <td>0.0</td>\n",
              "      <td>0.0</td>\n",
              "      <td>0.0</td>\n",
              "      <td>0.0</td>\n",
              "      <td>0.0</td>\n",
              "      <td>0.0</td>\n",
              "      <td>0.0</td>\n",
              "    </tr>\n",
              "    <tr>\n",
              "      <th>1958-06-01</th>\n",
              "      <td>0.0</td>\n",
              "      <td>0.0</td>\n",
              "      <td>0.0</td>\n",
              "      <td>0.0</td>\n",
              "      <td>0.0</td>\n",
              "      <td>1.0</td>\n",
              "      <td>0.0</td>\n",
              "      <td>0.0</td>\n",
              "      <td>0.0</td>\n",
              "      <td>0.0</td>\n",
              "      <td>0.0</td>\n",
              "      <td>0.0</td>\n",
              "    </tr>\n",
              "    <tr>\n",
              "      <th>1958-07-01</th>\n",
              "      <td>0.0</td>\n",
              "      <td>0.0</td>\n",
              "      <td>0.0</td>\n",
              "      <td>0.0</td>\n",
              "      <td>0.0</td>\n",
              "      <td>0.0</td>\n",
              "      <td>1.0</td>\n",
              "      <td>0.0</td>\n",
              "      <td>0.0</td>\n",
              "      <td>0.0</td>\n",
              "      <td>0.0</td>\n",
              "      <td>0.0</td>\n",
              "    </tr>\n",
              "    <tr>\n",
              "      <th>1958-08-01</th>\n",
              "      <td>0.0</td>\n",
              "      <td>0.0</td>\n",
              "      <td>0.0</td>\n",
              "      <td>0.0</td>\n",
              "      <td>0.0</td>\n",
              "      <td>0.0</td>\n",
              "      <td>0.0</td>\n",
              "      <td>1.0</td>\n",
              "      <td>0.0</td>\n",
              "      <td>0.0</td>\n",
              "      <td>0.0</td>\n",
              "      <td>0.0</td>\n",
              "    </tr>\n",
              "  </tbody>\n",
              "</table>\n",
              "<p>116 rows × 12 columns</p>\n",
              "</div>"
            ],
            "text/plain": [
              "component   month_1  month_2  month_3  month_4  month_5  month_6  month_7  \\\n",
              "Month                                                                       \n",
              "1949-01-01      1.0      0.0      0.0      0.0      0.0      0.0      0.0   \n",
              "1949-02-01      0.0      1.0      0.0      0.0      0.0      0.0      0.0   \n",
              "1949-03-01      0.0      0.0      1.0      0.0      0.0      0.0      0.0   \n",
              "1949-04-01      0.0      0.0      0.0      1.0      0.0      0.0      0.0   \n",
              "1949-05-01      0.0      0.0      0.0      0.0      1.0      0.0      0.0   \n",
              "...             ...      ...      ...      ...      ...      ...      ...   \n",
              "1958-04-01      0.0      0.0      0.0      1.0      0.0      0.0      0.0   \n",
              "1958-05-01      0.0      0.0      0.0      0.0      1.0      0.0      0.0   \n",
              "1958-06-01      0.0      0.0      0.0      0.0      0.0      1.0      0.0   \n",
              "1958-07-01      0.0      0.0      0.0      0.0      0.0      0.0      1.0   \n",
              "1958-08-01      0.0      0.0      0.0      0.0      0.0      0.0      0.0   \n",
              "\n",
              "component   month_8  month_9  month_10  month_11  month_12  \n",
              "Month                                                       \n",
              "1949-01-01      0.0      0.0       0.0       0.0       0.0  \n",
              "1949-02-01      0.0      0.0       0.0       0.0       0.0  \n",
              "1949-03-01      0.0      0.0       0.0       0.0       0.0  \n",
              "1949-04-01      0.0      0.0       0.0       0.0       0.0  \n",
              "1949-05-01      0.0      0.0       0.0       0.0       0.0  \n",
              "...             ...      ...       ...       ...       ...  \n",
              "1958-04-01      0.0      0.0       0.0       0.0       0.0  \n",
              "1958-05-01      0.0      0.0       0.0       0.0       0.0  \n",
              "1958-06-01      0.0      0.0       0.0       0.0       0.0  \n",
              "1958-07-01      0.0      0.0       0.0       0.0       0.0  \n",
              "1958-08-01      1.0      0.0       0.0       0.0       0.0  \n",
              "\n",
              "[116 rows x 12 columns]"
            ]
          },
          "execution_count": 68,
          "metadata": {},
          "output_type": "execute_result"
        }
      ],
      "source": [
        "train_month.pd_dataframe()"
      ]
    },
    {
      "cell_type": "code",
      "execution_count": null,
      "metadata": {},
      "outputs": [],
      "source": []
    }
  ],
  "metadata": {
    "accelerator": "GPU",
    "colab": {
      "collapsed_sections": [],
      "name": "Tesla_TCN(ok).ipynb",
      "provenance": []
    },
    "kernelspec": {
      "display_name": "Python 3",
      "name": "python3"
    },
    "language_info": {
      "codemirror_mode": {
        "name": "ipython",
        "version": 3
      },
      "file_extension": ".py",
      "mimetype": "text/x-python",
      "name": "python",
      "nbconvert_exporter": "python",
      "pygments_lexer": "ipython3",
      "version": "3.8.12"
    }
  },
  "nbformat": 4,
  "nbformat_minor": 0
}
